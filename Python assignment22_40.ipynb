{
 "cells": [
  {
   "cell_type": "code",
   "execution_count": null,
   "metadata": {},
   "outputs": [
    {
     "name": "stdout",
     "output_type": "stream",
     "text": [
      "hi there  welcome to python world  python is easy\n"
     ]
    }
   ],
   "source": [
    "#Write a Python program to remove a newline in Python.\n",
    "str=\"\\nhi there \\n welcome to python world \\n python is easy\\n\"\n",
    "#print(str.strip(\"\\n\"))\n",
    "#print(f\"{str.replace('\\n',\"\")}\")\n",
    "print(\"\".join(str.split('\\n')))"
   ]
  },
  {
   "cell_type": "code",
   "execution_count": null,
   "metadata": {},
   "outputs": [
    {
     "name": "stdout",
     "output_type": "stream",
     "text": [
      "Hi there.Welcome here. Learn Python,\n"
     ]
    }
   ],
   "source": [
    "#Write a Python program to swap commas and dots in a string\n",
    "str=\"Hi there,Welcome here, Learn Python.\"\n",
    "maketrans=str.maketrans\n",
    "str=str.translate(maketrans(',.','.,'))\n",
    "print(str)"
   ]
  },
  {
   "cell_type": "code",
   "execution_count": null,
   "metadata": {},
   "outputs": [
    {
     "name": "stdout",
     "output_type": "stream",
     "text": [
      "First repeated character in string is h\n"
     ]
    }
   ],
   "source": [
    "#Write a Python program to find the first repeated character in a given string\n",
    "str=\"Hi there,Welcome here, Learn Python.\"\n",
    "d1={}\n",
    "for i in (str.lower()):\n",
    "    if i in d1:\n",
    "       print('First repeated character in string is',i)\n",
    "       break\n",
    "    else: d1[i]=1\n",
    "\n"
   ]
  },
  {
   "cell_type": "code",
   "execution_count": null,
   "metadata": {},
   "outputs": [
    {
     "name": "stdout",
     "output_type": "stream",
     "text": [
      "{'banana': 1, 'guava': 1, 'pears': 1, 'cherry': 3, 'mango': 3, 'apple': 4}\n",
      "cherry 3\n",
      "mango 3\n"
     ]
    }
   ],
   "source": [
    "#25. Write a Python program to find the second most repeated word in a given string\n",
    "str=\"apple,banana,cherry,guava,apple,cherry,mango,pears,mango,apple,cherry,mango,apple\"\n",
    "d1={}\n",
    "l1=str.split(\",\")\n",
    "for i in l1:\n",
    "    i=i.strip(',').strip('.').lower()\n",
    "    if i in d1:\n",
    "        d1[i]+=1\n",
    "    else:\n",
    "        d1[i]=1\n",
    "sorted_dict = dict(sorted(d1.items(), key=lambda item: item[1]))\n",
    "print(sorted_dict)\n",
    "for k,v in sorted_dict.items():\n",
    "    if v==list(sorted_dict.values())[-2]:\n",
    "        print(k,v)"
   ]
  },
  {
   "cell_type": "code",
   "execution_count": null,
   "metadata": {},
   "outputs": [
    {
     "name": "stdout",
     "output_type": "stream",
     "text": [
      "Even count: 4\n",
      "Odd count: 5\n"
     ]
    }
   ],
   "source": [
    "#Python program to Count Even and Odd numbers in a string\n",
    "str=\"1 5 6 12 3 5 8 20 25\"\n",
    "evencnt=0\n",
    "oddcnt=0\n",
    "l1=str.split()\n",
    "evencnt=len([num for num in l1 if int(num)%2==0 ])\n",
    "oddcnt=len([num for num in l1 if int(num)%2!=0 ])\n",
    "print('Even count:',evencnt)\n",
    "print('Odd count:',oddcnt)"
   ]
  },
  {
   "cell_type": "code",
   "execution_count": null,
   "metadata": {},
   "outputs": [
    {
     "name": "stdout",
     "output_type": "stream",
     "text": [
      "String does not contains only numbers\n"
     ]
    }
   ],
   "source": [
    "#How do you check if a string contains only digits?\n",
    "str='24354545'\n",
    "if str.isnumeric():print('String contains only numbers')\n",
    "else:print('String does not contains only numbers')"
   ]
  },
  {
   "cell_type": "code",
   "execution_count": 32,
   "metadata": {},
   "outputs": [
    {
     "name": "stdout",
     "output_type": "stream",
     "text": [
      "Given letter or word does not exist in the string\n",
      "\n"
     ]
    }
   ],
   "source": [
    "#How do you remove a given character/word from String?\n",
    "str='apple,banana,cherry,guava,apple,cherry,mango,pears,mango,apple,cherry,mango,apple'\n",
    "newstr=''\n",
    "removestr=input('Enter character or word to remove from string')\n",
    "if removestr in str:\n",
    "    newstr=str.replace(removestr,'')\n",
    "else:print('Given letter or word does not exist in the string')\n",
    "print(newstr)\n"
   ]
  },
  {
   "cell_type": "code",
   "execution_count": null,
   "metadata": {},
   "outputs": [
    {
     "name": "stdout",
     "output_type": "stream",
     "text": [
      "acegik\n"
     ]
    }
   ],
   "source": [
    "# Write a Python program to remove the characters which have odd index values of a given string\n",
    "str='abcdefghijkl'\n",
    "i=0\n",
    "newstr=''\n",
    "while(i < len(str)):\n",
    "    if(i%2==0):\n",
    "        newstr+=str[i]\n",
    "    i+=1\n",
    "print(newstr)       "
   ]
  },
  {
   "cell_type": "code",
   "execution_count": 49,
   "metadata": {},
   "outputs": [
    {
     "name": "stdout",
     "output_type": "stream",
     "text": [
      "emocleW ih\n"
     ]
    }
   ],
   "source": [
    "#Write a Python function to reverses a string if its length is a multiple of 5\n",
    "str ='hi Welcome'\n",
    "if len(str)%5==0:\n",
    "    print(\"\".join(reversed(str)))\n",
    "else:\n",
    "    print(str)\n"
   ]
  },
  {
   "cell_type": "code",
   "execution_count": 57,
   "metadata": {},
   "outputs": [
    {
     "name": "stdout",
     "output_type": "stream",
     "text": [
      "5%\n"
     ]
    }
   ],
   "source": [
    "#Write a Python program to format a number with a percentage(0.05 >> 5%)\n",
    "num=0.05\n",
    "print(\"{:.0%}\".format(num) )"
   ]
  },
  {
   "cell_type": "code",
   "execution_count": null,
   "metadata": {},
   "outputs": [
    {
     "name": "stdout",
     "output_type": "stream",
     "text": [
      "ih ereht emoclew \n"
     ]
    }
   ],
   "source": [
    "#Write a Python program to reverse words in a string\n",
    "str='hi there welcome'\n",
    "l1=str.split()\n",
    "newstr=''\n",
    "#l2=[''.join(reversed(word)) for word in l1]\n",
    "#print([''.join(reversed(word)) for word in l1])\n",
    "for word in l1:\n",
    "    newstr+=''.join(reversed(word)) + ' '\n",
    "print(newstr)\n"
   ]
  },
  {
   "cell_type": "code",
   "execution_count": 55,
   "metadata": {},
   "outputs": [
    {
     "name": "stdout",
     "output_type": "stream",
     "text": [
      "HI THERE welcome\n"
     ]
    }
   ],
   "source": [
    "#Write a Python program to swap cases of a given string\n",
    "str='hi there WELCOME'\n",
    "newstr=''\n",
    "for i in str:\n",
    "    if i.islower():\n",
    "        newstr+=i.upper()\n",
    "    elif i.isupper():\n",
    "        newstr+=i.lower()\n",
    "    else:\n",
    "        newstr+=i\n",
    "print(newstr)\n",
    "        "
   ]
  },
  {
   "cell_type": "code",
   "execution_count": 5,
   "metadata": {},
   "outputs": [
    {
     "name": "stdout",
     "output_type": "stream",
     "text": [
      "hithereWELCOME\n"
     ]
    }
   ],
   "source": [
    "#Write a Python program to remove spaces from a given string\n",
    "str='hi there WELCOME'\n",
    "print(str.replace(' ',''))"
   ]
  },
  {
   "cell_type": "code",
   "execution_count": null,
   "metadata": {},
   "outputs": [
    {
     "name": "stdout",
     "output_type": "stream",
     "text": [
      "532641\n"
     ]
    }
   ],
   "source": [
    "#Write a Python program to remove duplicate characters of a given string\n",
    "str='53253564211'\n",
    "s1=''.join(sorted(set(str),key=str.index))\n",
    "print(s1)"
   ]
  },
  {
   "cell_type": "code",
   "execution_count": 24,
   "metadata": {},
   "outputs": [
    {
     "name": "stdout",
     "output_type": "stream",
     "text": [
      "Area of a circle= 12.56\n"
     ]
    }
   ],
   "source": [
    "#Write a Python Program to find the area of a circle\n",
    "radius=int(input('Enter radius of a circle'))\n",
    "print('Area of a circle=',3.14*radius**2)"
   ]
  },
  {
   "cell_type": "code",
   "execution_count": null,
   "metadata": {},
   "outputs": [
    {
     "name": "stdout",
     "output_type": "stream",
     "text": [
      "14\n"
     ]
    }
   ],
   "source": [
    "#Python Program to find Sum of squares of first n natural numbers\n",
    "n=3\n",
    "print(sum([i**2 for i in range(1, n+1)]))"
   ]
  },
  {
   "cell_type": "code",
   "execution_count": 2,
   "metadata": {},
   "outputs": [
    {
     "name": "stdout",
     "output_type": "stream",
     "text": [
      "36\n"
     ]
    }
   ],
   "source": [
    "#Python Program to find cube sum of first n natural numbers\n",
    "n=3\n",
    "print(sum([i**3 for i in range(1, n+1)]))"
   ]
  },
  {
   "cell_type": "code",
   "execution_count": 3,
   "metadata": {},
   "outputs": [
    {
     "name": "stdout",
     "output_type": "stream",
     "text": [
      "Simple interest is: 1000.0\n",
      "Compound interest is: 1040.8080320000008\n"
     ]
    }
   ],
   "source": [
    "#Python Program to find simple interest and compound interest\n",
    "p=10000\n",
    "r=2\n",
    "t=5\n",
    "simpleint=(p*r*t)/100\n",
    "amount = p * (1 + r / 100) ** t\n",
    "compound_interest = amount - p\n",
    "print('Simple interest is:', simpleint)\n",
    "print('Compound interest is:', compound_interest)"
   ]
  },
  {
   "cell_type": "code",
   "execution_count": 35,
   "metadata": {},
   "outputs": [
    {
     "name": "stdout",
     "output_type": "stream",
     "text": [
      "Number is not prime\n"
     ]
    }
   ],
   "source": [
    "#Python program to check whether a number is Prime or not:\n",
    "num=5\n",
    "i=2\n",
    "if num<=1:\n",
    "    print('Number is not prime')\n",
    "else:\n",
    "    for i in range(2,num//2):\n",
    "        if(num%i==0):\n",
    "            flag=False\n",
    "        else:\n",
    "            flag=True\n",
    "    if (flag==True): \n",
    "        print('Number is prime')\n",
    "    else:\n",
    "        print('Number is not prime')\n",
    "\n",
    "\n"
   ]
  },
  {
   "cell_type": "code",
   "execution_count": 23,
   "metadata": {},
   "outputs": [
    {
     "name": "stdout",
     "output_type": "stream",
     "text": [
      "2 is a prime number\n"
     ]
    }
   ],
   "source": [
    "num = 2\n",
    " \n",
    "# If given number is greater than 1\n",
    "if num > 1:\n",
    "     \n",
    "   # Iterate from 2 to n / 2 \n",
    "   for i in range(2, num//2):\n",
    "        \n",
    "       # If num is divisible by any number between \n",
    "       # 2 and n / 2, it is not prime \n",
    "       if (num % i) == 0:\n",
    "           print(num, \"is not a prime number\")\n",
    "           break\n",
    "   else:\n",
    "       print(num, \"is a prime number\")\n",
    " \n",
    "else:\n",
    "   print(num, \"is not a prime number\")"
   ]
  }
 ],
 "metadata": {
  "kernelspec": {
   "display_name": "base",
   "language": "python",
   "name": "python3"
  },
  "language_info": {
   "codemirror_mode": {
    "name": "ipython",
    "version": 3
   },
   "file_extension": ".py",
   "mimetype": "text/x-python",
   "name": "python",
   "nbconvert_exporter": "python",
   "pygments_lexer": "ipython3",
   "version": "3.12.7"
  }
 },
 "nbformat": 4,
 "nbformat_minor": 2
}
