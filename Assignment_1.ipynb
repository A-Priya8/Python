{
 "cells": [
  {
   "cell_type": "code",
   "execution_count": null,
   "metadata": {},
   "outputs": [],
   "source": [
    "\"\"\"\n",
    "#############################################################         ANSWERS         ##################################################################\n",
    "1. What are the key features of Python?\n",
    "  a. Extensive standard library\n",
    "  b.object-oriented\n",
    "  c.cross platform compatibility\n",
    "  d.dynamically typed\n",
    "  high level language\n",
    "\n",
    "2. What are the Data Types in Python?\n",
    "    Text Type:\tstr\n",
    "    Numeric Types:\tint, float, complex\n",
    "    Sequence Types:\tlist, tuple, range\n",
    "    Mapping Type:\tdict\n",
    "    Set Types:\tset, frozenset\n",
    "    Boolean Type:\tbool\n",
    "    Binary Types:\tbytes, bytearray, memoryview\n",
    "\n",
    "3. What are local variables and global variables in Python?\n",
    "    Scope- Local variables are accessible only within the function, while global variables are accessible throughout the program.\n",
    "\n",
    "    Lifetime: Local variables exist only during the executing a fun, whereas global variables exist for the duration of the program's execution.\n",
    "\n",
    "    Data Sharing: Global variables can be shared across functions, while local variables cannot be shared\n",
    "\n",
    "4. How do you write comments in python? And Why Comments are important?\n",
    "    Use the # symbol to write single-line comments and use triple quotes to write multi-line comments\n",
    "    Comments can be used to explain Python code,comments can be used to make the code more readable.\n",
    "\n",
    "5. How to comment on multiple lines in python?\n",
    "    use triple quotes to write multi-line comments\n",
    "\n",
    "6. What do you mean by Python literals?\n",
    "    Literals are the constant values or the variable values used in a Python code. There are mainly five types of literals used in PYTHON:\n",
    "    String Literals,Numeric Literals,Boolean Literals,Special Literals,Collection Literals\n",
    "\n",
    "7. What are different ways to assign value to variables?\n",
    "    assign a value to a variable. eg x=10,str='hello'\n",
    "    assign values to multiple variables: x,y,z=4,5,6\n",
    "    dynamic typing eg x=10 x='hi'\n",
    "    using conditional operators: ex y=a if a>b else b\n",
    "    assign the same value to multiple variables eg a=b=c=10\n",
    "\n",
    "8. What are the Escape Characters in python?\n",
    "    escape characters are used to give special characters within strings eg print(\"Welcome\\n to India\")\n",
    "\n",
    "9. Which are the different ways to perform string formatting? Explain with\n",
    "example.\n",
    "    1. Using % (modulo) Operator\n",
    "    eg: name = \"India\"\n",
    "        print(\"Welcome to %s\" % name)\n",
    "        Output:Welcome to India\n",
    "    2. Using format() method\n",
    "    eg:print(\"Hey {}, Welcome {}.\".format('Priya', 'to India'))\n",
    "       Output:Hey Priya, Welcome to India.\n",
    "    3. Using f-string\n",
    "        eg: name = \"Priya\"\n",
    "            print(f\"Hi, My name is {name}.\")\n",
    "            Output:Hi, My name is Priya.\n",
    "    4.Using String Template Class\n",
    "        eg: from string import Template \n",
    "            name = \"Priya\"\n",
    "            city = \"Pune\"\n",
    "            my_str = Template(\"$x lives in $y.\")\n",
    "            print(my_str.substitute(x=name, y=city))\n",
    "\n",
    "\"\"\""
   ]
  },
  {
   "cell_type": "code",
   "execution_count": null,
   "metadata": {},
   "outputs": [
    {
     "name": "stdout",
     "output_type": "stream",
     "text": [
      "p\n",
      "r\n",
      "i\n",
      "y\n",
      "a\n"
     ]
    }
   ],
   "source": [
    "# Write a program to print every character of a string entered by the user in a\n",
    "#new line using a loop\n",
    "str=input('Enter string')\n",
    "for i in str:\n",
    "    print(i)"
   ]
  },
  {
   "cell_type": "code",
   "execution_count": 8,
   "metadata": {},
   "outputs": [
    {
     "name": "stdout",
     "output_type": "stream",
     "text": [
      "Length of given string is: 16\n"
     ]
    }
   ],
   "source": [
    "# Write a program to find the length of the string \"machine learning\" with len function\n",
    "#without using len function.\n",
    "str=\"machine learning\"\n",
    "print('Length of given string is:',len(str))"
   ]
  },
  {
   "cell_type": "code",
   "execution_count": 7,
   "metadata": {},
   "outputs": [
    {
     "name": "stdout",
     "output_type": "stream",
     "text": [
      "Length of given string is: 16\n"
     ]
    }
   ],
   "source": [
    "# Write a program to find the length of the string \"machine learning\" without using len function.\n",
    "str=\"machine learning\"\n",
    "count=0\n",
    "for i in str:\n",
    "    count+=1\n",
    "\n",
    "print('Length of given string is:',count)\n"
   ]
  },
  {
   "cell_type": "code",
   "execution_count": 13,
   "metadata": {},
   "outputs": [
    {
     "name": "stdout",
     "output_type": "stream",
     "text": [
      "Word found\n"
     ]
    }
   ],
   "source": [
    "#Write a program to check if the word 'orange' is present in the \"This is orange juice\".\n",
    "str=\"This is orange juice\"\n",
    "word='orange'\n",
    "if word in str:\n",
    "    print('Word found')\n",
    "else: print('Word not found')"
   ]
  },
  {
   "cell_type": "code",
   "execution_count": 9,
   "metadata": {},
   "outputs": [
    {
     "name": "stdout",
     "output_type": "stream",
     "text": [
      "No of vowels are: 4\n",
      "No of Consonants are: 8\n",
      "No of digits are: 0\n",
      "No of spaces are: 2\n"
     ]
    }
   ],
   "source": [
    "#Write a program to find the number of vowels, consonants, digits, and white\n",
    "#space characters in a string.\n",
    "str='python is easy'\n",
    "vowelcnt=0\n",
    "consonantcnt=0\n",
    "digitcnt=0\n",
    "spacecnt=0\n",
    "for i in str:\n",
    "    #print(i)\n",
    "    if i.isdigit()==True:\n",
    "        digitcnt+=1\n",
    "    elif i.isalpha()==True:\n",
    "        i=i.upper()\n",
    "        #print(i)\n",
    "        if(i=='A'or i=='E'or i=='I'or i=='O'or i=='U'):\n",
    "            vowelcnt+=1\n",
    "        else:consonantcnt+=1\n",
    "    elif i.isspace()==True:\n",
    "        spacecnt+=1\n",
    "print('No of vowels are:',vowelcnt)   \n",
    "print('No of Consonants are:',consonantcnt)\n",
    "print('No of digits are:',digitcnt)\n",
    "print('No of spaces are:',spacecnt)\n"
   ]
  },
  {
   "cell_type": "code",
   "execution_count": 14,
   "metadata": {},
   "outputs": [
    {
     "name": "stdout",
     "output_type": "stream",
     "text": [
      "No of uppercase letters are: 4\n",
      "No of lowercase letters are: 10\n",
      "No of special characters are: 2\n",
      "No of Numeric values are: 3\n"
     ]
    }
   ],
   "source": [
    "#Write a Python program to count Uppercase, Lowercase, special character and numeric values in a given string\n",
    "str='Python IS@ Simple 100%'\n",
    "numcnt=0\n",
    "uppercnt=0\n",
    "lowercnt=0\n",
    "spacecnt=0\n",
    "specialcharcnt=0\n",
    "for i in str:\n",
    "    if i.isnumeric()==True:\n",
    "        numcnt+=1\n",
    "    elif i.isalpha()==True:\n",
    "        if i.isupper()==True:\n",
    "            uppercnt+=1\n",
    "        else:\n",
    "            lowercnt+=1\n",
    "    elif i.isspace()==True:\n",
    "        spacecnt+=1\n",
    "    else:\n",
    "        specialcharcnt+=1\n",
    "\n",
    "print('No of uppercase letters are:',uppercnt)\n",
    "print('No of lowercase letters are:',lowercnt)\n",
    "print('No of special characters are:',specialcharcnt)\n",
    "print('No of Numeric values are:',numcnt) "
   ]
  },
  {
   "cell_type": "code",
   "execution_count": 19,
   "metadata": {},
   "outputs": [
    {
     "name": "stdout",
     "output_type": "stream",
     "text": [
      "eo, ae a oo a\n"
     ]
    }
   ],
   "source": [
    "#Write a program to make a new string with all the consonants deleted from the string \"Hello, have a good day\"\n",
    "str=\"Hello, have a good day\"\n",
    "newstr=\"\"            \n",
    "\n",
    "for i in str:\n",
    "    if i.isalpha()==True:\n",
    "        j=i.upper()\n",
    "        if(j=='A' or j=='E' or j=='I' or j=='O' or j=='U'):\n",
    "            newstr=newstr + i\n",
    "    else:  newstr=newstr + i      \n",
    "print(newstr)            "
   ]
  },
  {
   "cell_type": "code",
   "execution_count": 87,
   "metadata": {},
   "outputs": [
    {
     "name": "stdout",
     "output_type": "stream",
     "text": [
      "Hi elcome to AI world\n",
      "Hi elcome to AI world\n"
     ]
    }
   ],
   "source": [
    "#Write a Python program to remove the nth index character from a non-empty string\n",
    "str=\"Hi Welcome to AI world\"\n",
    "newstr=''\n",
    "index=int(input('Enter index'))\n",
    "newstr=str.replace(str[index],'')\n",
    "print(newstr)\n",
    "\n",
    "#############################OR############################3\n",
    "str=\"Hi Welcome to AI world\"\n",
    "first_part=str[:index]\n",
    "second_part=str[index+1:]\n",
    "print(first_part+second_part)\n"
   ]
  },
  {
   "cell_type": "code",
   "execution_count": 34,
   "metadata": {},
   "outputs": [
    {
     "name": "stdout",
     "output_type": "stream",
     "text": [
      "yython is easp\n"
     ]
    }
   ],
   "source": [
    "#Write a Python program to change a given string to a new string where the first and last characters have been exchanged.\n",
    "str='python is easy'\n",
    "newstr=str[-1] + str[1:-1] +str[0]\n",
    "print(newstr)"
   ]
  },
  {
   "cell_type": "code",
   "execution_count": null,
   "metadata": {},
   "outputs": [
    {
     "name": "stdout",
     "output_type": "stream",
     "text": [
      "{'welcome': 1, 'to': 1, 'python': 2, 'world': 1, 'is': 1, 'easy': 1}\n"
     ]
    }
   ],
   "source": [
    "#Write a Python program to count the occurrences of each word in a given sentence.\n",
    "str='Welcome to python world python is easy'\n",
    "wordcnt={}\n",
    "l1=(str.lower()).split()\n",
    "for i in l1:\n",
    "    if i in wordcnt:\n",
    "        wordcnt[i]+=1\n",
    "    else:\n",
    "        wordcnt[i]=1\n",
    "   \n",
    "print(wordcnt)"
   ]
  },
  {
   "cell_type": "code",
   "execution_count": 55,
   "metadata": {},
   "outputs": [
    {
     "name": "stdout",
     "output_type": "stream",
     "text": [
      "{'p': 1, 'y': 2, 't': 1, 'h': 1, 'o': 1, 'n': 1, ' ': 2, 'i': 1, 's': 2, 'e': 1, 'a': 1}\n"
     ]
    }
   ],
   "source": [
    "#How do you count the occurrence of a given character in a string?\n",
    "str='python is easy'\n",
    "charcnt={}\n",
    "for i in str.lower():\n",
    "    if i in charcnt:\n",
    "        charcnt[i]+=1\n",
    "    else:\n",
    "        charcnt[i]=1\n",
    "   \n",
    "print(charcnt)"
   ]
  },
  {
   "cell_type": "code",
   "execution_count": 67,
   "metadata": {},
   "outputs": [
    {
     "name": "stdout",
     "output_type": "stream",
     "text": [
      "y to learn\n"
     ]
    }
   ],
   "source": [
    "#Write a program to find last 10 characters of a string?\n",
    "str='Hello everyone,welcome to the world of python,python is easy to learn'\n",
    "#print(str[-10:-1])\n",
    "print(str[-10:])"
   ]
  },
  {
   "cell_type": "code",
   "execution_count": 71,
   "metadata": {},
   "outputs": [
    {
     "name": "stdout",
     "output_type": "stream",
     "text": [
      "HELLO EVERYONE,WELCOME TO THE WORLD OF PYTHON,PYTHON IS EASY TO LEARN\n"
     ]
    }
   ],
   "source": [
    "#WAP to convert a given string to all uppercase if it contains at least 2 uppercase characters in the first 4 characters.\n",
    "str='HeLlo everyone,welcome to the world of python,python is easy to learn'\n",
    "uppercnt=0\n",
    "for i in str[0:4]:\n",
    "        if i.isupper()==True:\n",
    "                uppercnt+=1\n",
    "if uppercnt >=2 :\n",
    "        print(str.upper())\n",
    "else:print(str)\n"
   ]
  },
  {
   "cell_type": "code",
   "execution_count": null,
   "metadata": {},
   "outputs": [
    {
     "name": "stdout",
     "output_type": "stream",
     "text": [
      "HELLO EVERYONE,WELCOME TO THE WORLD OF PYTHON,PYTHON IS EASY TO LEARN\n"
     ]
    }
   ],
   "source": [
    "################################OR#########################LIST COMPREHENSION\n",
    "\n",
    "str='HeLlo everyone,welcome to the world of python,python is easy to learn'\n",
    "uppercnt=0\n",
    "uppercnt=sum([1 for i in str[0:4] if i.isupper()==True])\n",
    "print((str.upper() if uppercnt >=2 else str ))         "
   ]
  }
 ],
 "metadata": {
  "kernelspec": {
   "display_name": "base",
   "language": "python",
   "name": "python3"
  },
  "language_info": {
   "codemirror_mode": {
    "name": "ipython",
    "version": 3
   },
   "file_extension": ".py",
   "mimetype": "text/x-python",
   "name": "python",
   "nbconvert_exporter": "python",
   "pygments_lexer": "ipython3",
   "version": "3.12.7"
  }
 },
 "nbformat": 4,
 "nbformat_minor": 2
}
